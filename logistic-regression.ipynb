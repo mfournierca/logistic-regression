{
 "metadata": {
  "name": ""
 },
 "nbformat": 3,
 "nbformat_minor": 0,
 "worksheets": [
  {
   "cells": [
    {
     "cell_type": "code",
     "collapsed": false,
     "input": [
      "%matplotlib inline  \n",
      "from numpy import exp, log, linspace\n",
      "import matplotlib\n",
      "import matplotlib.pyplot as plt"
     ],
     "language": "python",
     "metadata": {},
     "outputs": [],
     "prompt_number": 17
    },
    {
     "cell_type": "markdown",
     "metadata": {},
     "source": [
      "# Let's Write: The Logistical Regression Classifier\n",
      "\n",
      "Logistical regression classifiers are a well-known machine learning technique for classifyng data. In this notebook we'll go through the basics of how they work and write a simple implementation. Then we'll test our implementation by using it to detect spam in a corpus of emails. \n",
      "\n",
      "## Prerequisites\n",
      "\n",
      "- Python\n",
      "- Knowledge of basic calculus, sums and series\n",
      "- Machine learning basics, test and training sets, cost functions, supervised learning.\n",
      "\n",
      "## The Logistical Regression Classifier\n",
      "\n",
      "The word \"classifier\" refers to a family of algorithms that can be used to divide data points into different classes. One of the most well-known uses of classifiers is spam detection; given a set of email messages, we want some way of automatically identifying spam. To do this we write an algorithm to divide the email messages into spam and not-spam, i.e. we classify them. \n",
      "\n",
      "A logistical regression classifier gets its name from the function at its core, the logistical, or sigmoid, function:\n",
      "\n",
      "$$ f(x) = 1 / (1 + e^{a - b*x}) a, b \\in \\R $$ \n",
      "\n",
      "Where a and b are real-valued parameters. This function has an interesting shape:"
     ]
    },
    {
     "cell_type": "code",
     "collapsed": false,
     "input": [
      "x = linspace(-15,15,100)\n",
      "a = 0\n",
      "b = 1\n",
      "plt.plot(x, 1 / (1 + exp(a + -b*x)))\n",
      "plt.show()"
     ],
     "language": "python",
     "metadata": {},
     "outputs": [
      {
       "metadata": {},
       "output_type": "display_data",
       "png": "[encoded data removed]",
       "text": [
        "<matplotlib.figure.Figure at 0x10ddb1b90>"
       ]
      }
     ],
     "prompt_number": 32
    },
    {
     "cell_type": "markdown",
     "metadata": {},
     "source": [
      "We observe that this function varies between 0 and 1 and is close to one of either extreme over most of its domain. This suggests a way of using this function as a classifier - if we can find some way of representing our problem as points on the x axis, then we can use this function to put each point into one of two classes, either 0 or 1. If for some point ```x``` ```sigmoid(x) < 0.5```, we say that ```x``` is in class 0. If ```sigmoid(x) > 0.5```, we say that ```x``` is in class 1. We call ```0.5``` the *decision boundary*. \n",
      "\n",
      "Consider our spam example. We'd like to use the sigmoid function to classify a message as spam or not-spam. Do do this, we need to find a way of mapping each message onto the X-axis. After that the sigmoid function will predict which class the method falls into. \n",
      "\n",
      "One such mapping could be the length of the longest capitalized word in the message. Spammers will sometimes use capitalized words to get our attention, so we expect spam message to have more and longer capitalized words. We can take the length of the longest capitalized word and use that as the message's position on X-axis.\n",
      "\n",
      "This is a good start, this won't quite work. The decision boundary is set at ```0.5```, which occurs at ```x = 0```. Since we can't have a capitalized word of negative length, this strategy would classify almost all messages as spam. What can we do about this? \n",
      "\n",
      "The solution comes in the parameters of the sigmoid funtion, ```a``` and ```b```. We can shift the function left or right by setting the ```a``` parameter:"
     ]
    },
    {
     "cell_type": "code",
     "collapsed": false,
     "input": [
      "a = 5\n",
      "b = 1\n",
      "plt.plot(x, 1 / (1 + exp(a + -b*x)))\n",
      "plt.show()"
     ],
     "language": "python",
     "metadata": {},
     "outputs": [
      {
       "metadata": {},
       "output_type": "display_data",
       "png": "[encoded data removed]",
       "text": [
        "<matplotlib.figure.Figure at 0x10ddf1dd0>"
       ]
      }
     ],
     "prompt_number": 42
    },
    {
     "cell_type": "markdown",
     "metadata": {},
     "source": [
      "The decision boundary is now above 5 instead of above 0, so any message with a capitalized word of length greater than 5 will be classified as spam. \n",
      "\n",
      "### Generalizing to Multiple Dimensions. \n",
      "\n",
      "In the discussion above we chose the length of the longest capitlized word to determine if a message was spam. However there are many more features of email messages that can be used, for example:\n",
      "\n",
      "- the email address they originate from\n",
      "- the presence of the word \"free\" or \"money\"\n",
      "- the presence of some symbols\n",
      "- the length of the message\n",
      "- etc. \n",
      "\n",
      "Later on in this notebook we'll use the logistical regression classifier to classify messages with 57 features. How can we generalize our approach to this many dimensions? \n",
      "\n",
      "Assume we can process any email message to extract a vector of real-valued features. Call this vector $ \\vec{X} $. We need to find a way of projecting these multidimensional feature vectors onto one dimension. If you've ever studied linear algebra it should be obvious that you can use the dot product to perform this projection operation. We need another vector, call it $ \\vec{P} $, in order to accomplish this.\n",
      "\n",
      "If we let\n",
      "\n",
      "$$ \\vec{X} = [x0, x1, x2 ... xn] $$\n",
      "\n",
      "And \n",
      "\n",
      "$$ \\vec{P} = [p0, p1, p2 ... pn] $$\n",
      "\n",
      "Where ```n``` is the number of features we've extracted, then the dot product is:\n",
      "\n",
      "$$ \\vec{X} \\cdot \\vec{P} = x0*p0 + x1*p1 + x2*p2 ... xn*pn $$ \n",
      "\n",
      "If we fix ```x0 = 1```, then this looks similar to the exponential term in the sigmoid function above. We can rewrite it as:\n",
      "\n",
      "$$ f(x) = 1 / (1 + e^{\\vec{X} \\cdot \\vec{P}}) $$\n",
      "$$ f(x) = 1 / (1 + e^{p0 + x1*p1 + x2*p2 ... xn*pn}) $$\n",
      " \n",
      "If we set ```n = 1```, this becomes\n",
      "\n",
      "$$ f(x) = 1 / (1 + e^{p0 + x1*p1}) $$\n",
      "\n",
      "Which is identical to the original sigmoid function with the parameters ```a = x0``` and ```b = -x1```. \n",
      "\n",
      "So if we have the parameter vector P and an email message, we can classify the email by:\n",
      "\n",
      "- extracting a feature vector from the message\n",
      "- performing the dot product operation\n",
      "- passing the result into the sigmoid function\n",
      "- checking if the result is greater than or less than 0.5. \n",
      "\n",
      "\n",
      "### Choosing the Parameters\n",
      "\n",
      "Following the conventions we set above, we call $ \\vec{P} $ the *parameter vector*. The vector $ \\vec{P} $ completely defines our classification model, meaning that when we get a new feature vector $ \\vec{X} $ how we classify it depends entirely on the values in $ \\vec{P} $.\n",
      "\n",
      "In the discussion above, we chose the parameters ```a``` and ```b``` by guesswork. However, with multiple dimensions and large training sets we need an algorithmic way of choose the values of $ \\vec{P} $. This is called *training* the classifier. \n",
      "\n",
      "The logistical regression classifier is a supervised learning algorithm. This means that in order to train the algorithm we must provide it with a *training set* of feature vectors  $ \\{ \\vec{Xi} \\mid  i = 1 .. n \\} $ and a set of *labels* $ \\{ \\vec{yi} \\mid yi \\in \\{ 0, 1 \\} \\forall  i = 1 .. n \\} $ which indicate the correct class in which to place each of the $ \\vec{Xi} $. \n",
      "\n",
      "Give this training set we can define a *cost function* which does the following:\n",
      "\n",
      "- Given a parameter vector $ \\vec{P} $,\n",
      "- For each feature vector $ \\vec{X} $ in the training set \n",
      "    - Make a prediction from our sigmoid model, sigmoid($ \\vec{X} , vec{P} $)\n",
      "    - Compare our prediction against the correct label for $ \\vec{X} $\n",
      "    - If our prediction was incorrect, return a high value for the cost\n",
      "    - If the prediction was correct, return a low value for the cost. \n",
      "\n",
      "Given such a cost function, we can use numerical methods to iteratively find the optimal value of $ \\vec{P} $. \n",
      "\n",
      "To define a cost function, \n",
      "\n",
      "The cost function for the logistical regression classifier is:\n",
      "\n",
      "$$ J = (-1 / n) \\sum_{i=1}^{n} yi * log(h(xi)) + (1 - yi) * log(1 - h(xi)) $$\n",
      "\n",
      "We can see that this satisfies our conditions:\n",
      "\n",
      "- if the correct class is 1 and our model predicts something close to 1, then the first and second terms are close to 0 and the cost is low. \n",
      "- if the correct class is 1 and our model predicts something close 0 then first term becomes large and the cost is high\n",
      "- if the correct class is 0 and we predict 0, then both terms approach 0 and the cost is low\n",
      "- if the correct class is 0 and we predict 1, then the second term becomes large and the cost is high\n",
      "\n",
      "There are some other important properties of this function that we do not discuss here. (it's real valued and continously differentiable everywhere). \n",
      "\n",
      "We perform this operation on every vector in the training set and sum the results to get a total cost on the training set. \n",
      "\n",
      "The problem is now to find the values of $ \\vec{P} $ that minimize this cost function. The problem of minimizing functions is well understood and there are many libraries that can do this for us. Having decided which function we need to minimize, we can just pass this function into the optimization libraries and have them automatically find the best value of $ \\vec{P} $, thereby training our classifier. \n",
      "\n",
      "One final important note - this function can be vecotries used more dot products and matrices. This speeds up computeation. \n",
      "\n",
      "If we let X be the entire training set and put all the labels in y, then we can write the forumale above as:\n",
      "\n",
      "alsdl;akjflkasdjf\n",
      "\n",
      "this is how we implement this in code. \n",
      "\n",
      "## Putting it all Together\n",
      "\n",
      "We have 3 components of our classifier algorithm:\n",
      "\n",
      "- the prediction function\n",
      "- the cost function\n",
      "- the optimization function\n",
      "\n",
      "Implementations of each of these components can be found in ```src/logistic.py```:\n",
      "\n",
      "- The ```predict()``` function takes a matrix feature vectors X and the parameter vector theta. It mulitples the feature matrix by the parameter vector and then applies the sigmoid function to each element of the resulting vector. This creates a vector of n predictions for each of the n feature vectors in X. \n",
      "- The ```cost()``` function computes the cost of a parameter vector theta over a training set defined by X and y.\n",
      "- The ```train()``` function finds the parameter vector which minimizes the cost function. \n",
      "\n",
      "To train our classifier, we pass a training set X, a vector of labels y and an initial guess at the model parameters theta into the ```train()``` function. Scipy's optimization routines will find the paramater vector which minimizes the ```cost()``` function over the training set X. \n",
      "\n",
      "## Classifying Spam\n",
      "\n",
      "To test the classifier, we'll use the well-known [UCI Machine Learning Repository Spambase Data Set](https://archive.ics.uci.edu/ml/machine-learning-databases/spambase/). This is a data constructed by extracting feature vectors with 57 dimension from over 4000 emails. Each email has been manually labelled as spam and not-spam, making this perfect for our purposes. \n",
      "\n",
      "To download the data set, run the ```download()``` method in the ```src/spambase.py``` file:"
     ]
    },
    {
     "cell_type": "code",
     "collapsed": false,
     "input": [],
     "language": "python",
     "metadata": {},
     "outputs": [],
     "prompt_number": 33
    },
    {
     "cell_type": "markdown",
     "metadata": {},
     "source": [
      "## Trying it Out: Classifying Spam\n"
     ]
    },
    {
     "cell_type": "markdown",
     "metadata": {},
     "source": [
      "# Further Reading:\n",
      "\n",
      "- Machine Learning on Coursera: https://www.coursera.org/learn/machine-learning\n",
      "- An Introduction to Statistical Learning: http://www-bcf.usc.edu/~gareth/ISL/getbook.html"
     ]
    }
   ],
   "metadata": {}
  }
 ]
}