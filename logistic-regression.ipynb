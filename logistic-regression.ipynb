{
 "metadata": {
  "name": ""
 },
 "nbformat": 3,
 "nbformat_minor": 0,
 "worksheets": [
  {
   "cells": [
    {
     "cell_type": "code",
     "collapsed": false,
     "input": [
      "%matplotlib inline  \n",
      "from numpy import exp, log, linspace\n",
      "import matplotlib\n",
      "import matplotlib.pyplot as plt"
     ],
     "language": "python",
     "metadata": {},
     "outputs": [],
     "prompt_number": 17
    },
    {
     "cell_type": "markdown",
     "metadata": {},
     "source": [
      "# Let's Write: The Logistical Regression Classifier\n",
      "\n",
      "Logistical regression classifiers are a well-known machine learning technique for classifyng data. In this notebook we'll go through the basics of how they work and write a simple implementation. Then we'll test our implementation by using it to detect spam in a corpus of emails. \n",
      "\n",
      "Throughout this notebook we'll use spam classification as a convenient example to help explain how the classifier works.\n",
      "\n",
      "## Resources\n",
      "\n",
      "The python code that this notebook refers to can be found on [github](https://github.com/mfournierca/logistic-regression).\n",
      "\n",
      "## Prerequisites\n",
      "\n",
      "To get the most out of this notebook, you'll need the following prerequisites:\n",
      "\n",
      "- Python, numpy\n",
      "- Basic calculus, sums and series\n",
      "- Basic linear algebra, vectors, matrices, the dot product\n",
      "- Basics of numerical optimization, finding the minimum point of functions\n",
      "- Machine learning basics, test and training sets, cost functions, supervised learning, precision and recall\n",
      "\n",
      "## The Logistical Regression Classifier\n",
      "\n",
      "The word \"classifier\" refers to a family of algorithms that can be used to divide data points into different classes. One of the most well-known uses of classifiers is spam detection; given a set of email messages, we want some way of automatically identifying spam. To do this we write an algorithm to divide the email messages into spam and not-spam, i.e. we classify them. \n",
      "\n",
      "A logistical regression classifier gets its name from the function at its core, the logistical, or sigmoid, function:\n",
      "\n",
      "$$ h(x) = 1 / (1 + e^{a - bx}) \\ \\ a, b \\in \\mathbb{R} $$ \n",
      "\n",
      "This function has an interesting shape:"
     ]
    },
    {
     "cell_type": "code",
     "collapsed": false,
     "input": [
      "x = linspace(-15,15,100)\n",
      "a = 0\n",
      "b = 1\n",
      "plt.plot(x, 1 / (1 + exp(a + -b*x)))\n",
      "plt.show()"
     ],
     "language": "python",
     "metadata": {},
     "outputs": [
      {
       "metadata": {},
       "output_type": "display_data",
       "png": "[encoded data removed]",
       "text": [
        "<matplotlib.figure.Figure at 0x10f27c7d0>"
       ]
      }
     ],
     "prompt_number": 96
    },
    {
     "cell_type": "markdown",
     "metadata": {},
     "source": [
      "The function varies between 0 and 1 and is close to one of either extreme over most of its domain. This suggests a way of using this function as a classifier - if we can find some way of representing our problem as points on the x axis, then we can use this function to put each point into one of two classes, either 0 or 1. If for some point ```x```, ```h(x) < 0.5```, we say that ```x``` is in class 0. If ```h(x) > 0.5```, we say that ```x``` is in class 1. We call ```0.5``` the *decision boundary*. \n",
      "\n",
      "Consider our spam example. We'd like to use the sigmoid function ```h(x)``` to classify a message as spam or not-spam. Do do this, we need to find a way of mapping each message onto the X-axis. After that the sigmoid function will predict which class the method falls into. \n",
      "\n",
      "One such mapping could be the length of the longest capitalized word in the message. Spammers will sometimes use capitalized words to get our attention, so we expect spam messages to have more and longer capitalized words. We can take the length of the longest capitalized word and use that as the message's position on X-axis.\n",
      "\n",
      "This is a good start but it won't quite work. The decision boundary is set at ```0.5```, which occurs at ```x = 0```. Since we can't have a capitalized word of negative length, this strategy would classify almost all messages as spam. What can we do about this? \n",
      "\n",
      "The solution comes in the parameters of the sigmoid funtion, ```a``` and ```b```. We can shift the function left or right by setting the ```a``` parameter:"
     ]
    },
    {
     "cell_type": "code",
     "collapsed": false,
     "input": [
      "a = 5\n",
      "b = 1\n",
      "plt.plot(x, 1 / (1 + exp(a + -b*x)))\n",
      "plt.show()"
     ],
     "language": "python",
     "metadata": {},
     "outputs": [
      {
       "metadata": {},
       "output_type": "display_data",
       "png": "[encoded data removed]",
       "text": [
        "<matplotlib.figure.Figure at 0x11190d190>"
       ]
      }
     ],
     "prompt_number": 95
    },
    {
     "cell_type": "markdown",
     "metadata": {},
     "source": [
      "The decision boundary is now above 5 instead of above 0, so any message with a capitalized word of length greater than 5 will be classified as spam. By changing the parameters of the sigmoid function we've changed how we classify emails. "
     ]
    },
    {
     "cell_type": "markdown",
     "metadata": {},
     "source": [
      "### Generalizing to Multiple Dimensions\n",
      "\n",
      "In the discussion above we chose the length of the longest capitalized word to determine if a message was spam. However there are many more features of email messages that can be used, for example:\n",
      "\n",
      "- the email address they originate from\n",
      "- the presence of the word \"free\" or \"money\"\n",
      "- the presence of some symbols\n",
      "- the length of the message\n",
      "- etc. \n",
      "\n",
      "Later on in this notebook we'll use the logistical regression classifier to classify messages with 57 features. How can we generalize our approach to this many dimensions? \n",
      "\n",
      "Assume we can process any email message to extract a vector of real-valued features. Call this vector $ \\vec{x} $. We need to find a way of projecting these multidimensional feature vectors onto one dimension. Linear algebra provides us with a way of performing this projection operation: the dot product. We need another vector, call it $ \\vec{\\theta} $, in order to do this.\n",
      "\n",
      "If we let\n",
      "\n",
      "$$ \\vec{x} = [x_0, x_1, x_2 ... x_m] $$\n",
      "\n",
      "And \n",
      "\n",
      "$$ \\vec{\\theta} = [p_0, p_1, p_2 ... p_m] $$\n",
      "\n",
      "Where $ m \\in \\mathbb{N} $ is the number of features we've extracted, then the dot product is:\n",
      "\n",
      "$$ \\vec{x} \\cdot \\vec{\\theta} = x_0p_0 + x_1p_1 + x_2p_2 ... x_mp_m $$ \n",
      "\n",
      "If we fix $ x_0 = 1 $, then this looks similar to the exponential term in the sigmoid function above. We can rewrite it as:\n",
      "\n",
      "$$ h(\\vec{x}, \\vec{\\theta}) = 1 / (1 + e^{\\vec{x} \\cdot \\vec{\\theta}}) $$\n",
      "$$ h(\\vec{x}, \\vec{\\theta}) = 1 / (1 + e^{p_0 + x_1p_1 + x_2p_2 ... x_mp_m}) $$\n",
      " \n",
      "Set $ m = 1 $ and this becomes\n",
      "\n",
      "$$ h(\\vec{x}, \\vec{\\theta}) = 1 / (1 + e^{p_0 + x_1p_1}) $$\n",
      "\n",
      "Which is identical to the original sigmoid function with the parameters $ a = p_0 $ and $ b = -p_1$. \n",
      "\n",
      "So if we are given a parameter vector $ \\vec{\\theta} $ and an email message, we can classify the email by:\n",
      "\n",
      "- extracting a feature vector $ \\vec{x} $ from the message\n",
      "- performing the dot product operation with $ \\vec{\\theta} $\n",
      "- passing the result into the sigmoid function\n",
      "- checking if the result is greater than or less than 0.5\n",
      "\n",
      "It's clear that if we are given a new feature vector $ \\vec{x} $, how we classify it depends *entirely* on the values in $ \\vec{\\theta} $. Our classification model is completely defined by the values in the parameter vector $ \\vec{\\theta} $. "
     ]
    },
    {
     "cell_type": "markdown",
     "metadata": {},
     "source": [
      "### Choosing the Parameters\n",
      "\n",
      "Following the conventions we set above, we call $ \\vec{\\theta} $ the *parameter vector*. The problem now becomes: how do we choose the values in $\\vec{\\theta} $?\n",
      "\n",
      "In our previous discussion we chose the parameters $ a $ and $ b $ by guesswork. However with multiple dimensions and large training sets we need an algorithmic way of choose the values of $ \\vec{\\theta} $. Choosing the parameters is called *training* the classifier. \n",
      "\n",
      "The logistical regression classifier is a *supervised learning algorithm*. This means that in order to train the algorithm we must provide it with a *training set* of feature vectors  $ \\{ \\vec{x_i} \\mid  i = 1 .. n \\} $ and a set of *labels* $ \\{ \\vec{y_i} \\mid y_i \\in \\{ 0, 1 \\} \\forall  i = 1 .. n \\} $ which indicate the correct class in which to place each of the $ \\vec{x_i} $.\n",
      "\n",
      "Training the algorithm depends on the concept of a *cost function* which does the following:\n",
      "\n",
      "- Given a parameter vector $ \\vec{\\theta} $,\n",
      "- For each feature vector $ \\vec{x_i} $ in the training set \n",
      "    - Make a prediction from our sigmoid model, $ h( \\vec{x_i} , \\vec{\\theta} $)\n",
      "    - Compare our prediction against the correct label for $ \\vec{x_i} $\n",
      "    - If our prediction was incorrect, return a high value for the cost\n",
      "    - If the prediction was correct, return a low value for the cost. \n",
      "\n",
      "To train the classifier we can use numerical methods to iteratively find the values of $ \\vec{\\theta} $ which minimize this cost function. \n",
      "\n",
      "The cost function for the logistical regression classifier is:\n",
      "\n",
      "$$ J(\\vec{\\theta}, X, \\vec{y}) = (-1 / n) \\sum_{i=1}^{n} y_i log(h(\\vec{x_i}, \\vec{\\theta})) + (1 - y_i) log(1 - h(\\vec{x_i}, \\vec{\\theta})) $$\n",
      "\n",
      "Where:\n",
      "\n",
      "- $ n \\in \\mathbb{N} $ is the number of training vectors in our training set\n",
      "- $ X $ is an $ n * m $ matrix containing all $ n $ vectors in training set, each with $ m $ features\n",
      "- $ \\vec{x_i} $ is the $ i^{th} $ vector in the training set\n",
      "- $ y_i $ is is the class label for $ x_i $\n",
      "- $ h(\\vec{x}, \\vec{\\theta}) $ is the sigmoid function used by our model, as above\n",
      "- $ \\vec{\\theta} $ is the parameter vector, as above\n",
      "\n",
      "The way we derive this function and the properties which make is useful as a cost function are outside the scope of this discussion. However we can see that it does what we need it to do:\n",
      "\n",
      "- if $ y_i $ is 1 and $ h(\\vec{x_i}, \\vec{\\theta}) $ is close to 1 then the first and second terms in the sum are close to 0 and the cost $ J $ is low\n",
      "- if $ y_i $ is 1 and $ h(\\vec{x_i}, \\vec{\\theta}) $ is close to 0 then the first term becomes large and the cost is high\n",
      "- if $ y_i $ is 0 and $ h(\\vec{x_i}, \\vec{\\theta}) $ is close to 1 then the second term becomes large and the cost is high\n",
      "- if $ y_i $ is 0 and $ h(\\vec{x_i}, \\vec{\\theta}) $ is close to 0 then both terms approach 0 and the cost is low\n",
      "\n",
      "By finding the cost of each training example $ \\vec{x_i} $ and summing them we get a total cost of $ \\vec{\\theta} $ over the entire training set. \n",
      "\n",
      "We now need to find the values of  $ \\vec{\\theta} $ that minimize this cost function. The problem of minimizing functions is a well-studied branch of mathematics and there are many libraries that can do this for us. Having chosen the cost function $ J $  we can have the ```scipy.optimize``` library automatically find the best value of $ \\vec{\\theta} $, thereby training our classifier. \n"
     ]
    },
    {
     "cell_type": "markdown",
     "metadata": {},
     "source": [
      "### Vectorizing the Cost Function\n",
      "\n",
      "There's one important thing we need to do before training the classifier - we need to vectorize the function $ J $. \n",
      "\n",
      "The function $ J $ as we wrote it performs an operation and sums over the entire training set. There are various optimizations in the ```numpy``` and ```scipy``` libraries that depend on using matrices and vectors. We can express our cost function in terms of matrix and vector operations to take advantage of these optimizations. \n",
      "\n",
      "We can write our cost function as:\n",
      "\n",
      "$$ J(\\vec{\\theta}, X, \\vec{y}) = (-1 / n) [\\vec{y}'log(h(X, \\vec{\\theta})) + (\\vec{I}' - \\vec{y}') log(\\vec{I} - h(X, \\vec{\\theta}))] $$\n",
      "\n",
      "Where:\n",
      "\n",
      "- $\\vec{I}$ is the unit vector, a vector of ones\n",
      "- the $ ' $ symbol represents the transpose of a vector\n",
      "- the $ log $ and $ h() $ functions are applied to each element of the vectors they operate on\n",
      "\n",
      "This is how the algorithm is actually implemented."
     ]
    },
    {
     "cell_type": "markdown",
     "metadata": {},
     "source": [
      "## Putting it all Together\n",
      "\n",
      "Now we're ready to look at some code. We have 3 components of our classifier algorithm:\n",
      "\n",
      "- the prediction function\n",
      "- the cost function\n",
      "- the optimization function\n",
      "\n",
      "Implementations of each of these components can be found in ```src/logistic.py```:\n",
      "\n",
      "- The ```predict()``` function takes a matrix of feature vectors $ X $ and the parameter vector $ \\vec{\\theta} $. It mulitples the feature matrix by the parameter vector and then applies the sigmoid function to each element of the resulting vector. This creates a vector of $ n $ predictions for each of the $ n $ feature vectors in $ X $. \n",
      "- The ```cost()``` function computes the cost of a parameter vector $ \\vec{\\theta} $ over a training set  $ \\{ X $ , $ \\vec{y} \\} $.\n",
      "- The ```train()``` function finds the parameter vector which minimizes the cost function. \n",
      "\n",
      "To train our classifier, we pass a training set $ \\{ X , \\vec{y} \\} $ and an initial guess at the model parameters $ \\vec{\\theta} $ into the ```train()``` function. The optimization routines in ```scipy.optimize``` will find the parameter vector which minimizes the ```cost()``` function over the training set $ \\{ X , \\vec{y} \\} $."
     ]
    },
    {
     "cell_type": "markdown",
     "metadata": {},
     "source": [
      "## Classifying Spam\n",
      "\n",
      "To test the classifier, we'll use the well-known [UCI Machine Learning Repository Spambase Data Set](https://archive.ics.uci.edu/ml/datasets/Spambase). This data set is constructed by extracting feature vectors with 57 dimension from over 4600 emails. Each email has been manually labelled as spam and not-spam, making this perfect for our purposes. \n",
      "\n",
      "To download the data set, run the ```download()``` method in the ```src/spambase.py``` file:"
     ]
    },
    {
     "cell_type": "code",
     "collapsed": false,
     "input": [
      "from src import spambase\n",
      "spambase.download()"
     ],
     "language": "python",
     "metadata": {},
     "outputs": [],
     "prompt_number": 48
    },
    {
     "cell_type": "markdown",
     "metadata": {},
     "source": [
      "We use the ```read_data()``` function in ```src/spambase.py``` to get read $ X $ and $ \\vec{y} $, split them into train and tests sets, and generate the initial value for $ \\vec{\\theta} $:"
     ]
    },
    {
     "cell_type": "code",
     "collapsed": false,
     "input": [
      "theta, Xtrain, Xtest, ytrain, ytest = spambase.read_data()"
     ],
     "language": "python",
     "metadata": {},
     "outputs": [],
     "prompt_number": 65
    },
    {
     "cell_type": "markdown",
     "metadata": {},
     "source": [
      "Then we train the classifier using the ```train()``` function in ```src/logistic.py```:"
     ]
    },
    {
     "cell_type": "code",
     "collapsed": false,
     "input": [
      "from src import logistic\n",
      "trained_theta = logistic.train(theta, Xtrain, ytrain)"
     ],
     "language": "python",
     "metadata": {},
     "outputs": [
      {
       "output_type": "stream",
       "stream": "stdout",
       "text": [
        "Optimization terminated successfully.\n",
        "         Current function value: nan\n",
        "         Iterations: 8\n",
        "         Function evaluations: 8791\n",
        "         Gradient evaluations: 149\n"
       ]
      }
     ],
     "prompt_number": 66
    },
    {
     "cell_type": "markdown",
     "metadata": {},
     "source": [
      "```trained_theta``` now defines our model and we can use it to make predictions. To do this, we generate a set of predictions for ```Xtest``` and then check the accuracy and precision against ```ytest```."
     ]
    },
    {
     "cell_type": "code",
     "collapsed": false,
     "input": [
      "from numpy import matrix, array\n",
      "predictions = src.logistic.predict(matrix(trained_theta).transpose(), Xtest)\n",
      "\n",
      "# recall that 0.5 is our decision boundary\n",
      "predictions = [1 if p > 0.5 else 0 for p in predictions]\n",
      "\n",
      "# make a list of tuples, each tuple contains the predicted class and the labeled class\n",
      "predictions = zip(predictions, [i[0] for i in ytest.tolist()])\n",
      "print(predictions[:10])"
     ],
     "language": "python",
     "metadata": {},
     "outputs": [
      {
       "output_type": "stream",
       "stream": "stdout",
       "text": [
        "[(0, 1), (0, 1), (1, 1), (0, 0), (0, 0), (1, 0), (1, 0), (0, 0), (1, 1), (1, 1)]\n"
       ]
      }
     ],
     "prompt_number": 87
    },
    {
     "cell_type": "markdown",
     "metadata": {},
     "source": [
      "We can now calculate the precision and recall of our classifier:"
     ]
    },
    {
     "cell_type": "code",
     "collapsed": false,
     "input": [
      "tp = len([1 for x in predictions if x[0] == 1 and x[0] == x[1]])\n",
      "fp = len([1 for x in predictions if x[0] == 1 and x[0] != x[1]])\n",
      "precision = float(tp) / (float(tp) + float(fp))\n",
      "\n",
      "tn = len([1 for x in predictions if x[0] == 0 and x[0] == x[1]])\n",
      "fn = len([1 for x in predictions if x[0] == 0 and x[0] != x[1]])\n",
      "recall = float(tp) / (float(tp) + float(fn))\n",
      "\n",
      "print(\"Precision: {0}\".format(precision))\n",
      "print(\"Recall: {0}\".format(recall))"
     ],
     "language": "python",
     "metadata": {},
     "outputs": [
      {
       "output_type": "stream",
       "stream": "stdout",
       "text": [
        "0.892655367232\n",
        "0.773246329527\n"
       ]
      }
     ],
     "prompt_number": 89
    },
    {
     "cell_type": "markdown",
     "metadata": {},
     "source": [
      "Of all the messages we marked as spam, 89% were actually spam. Of all the spam messages in the training set, we found 77% of them. Not bad for our first try. "
     ]
    },
    {
     "cell_type": "markdown",
     "metadata": {},
     "source": [
      "## Next Steps\n",
      "\n",
      "There are many improvements that we could make to the algorithm, and many details that were ommitted from our discussion for the sake of brevity. \n",
      "\n",
      "### Choosing the Initial Values of $ \\vec{\\theta} $\n",
      "\n",
      "In ```src/spambase.py``` the initial values of $ \\vec{\\theta} $ are chosen to be normally distributed about 0. This was done to prevent the ```cost()``` function from finding an initial cost of ```Inf``` or ```-Inf```, which is possible because of the way ```cost()``` uses the logarithm. By initializing $ \\vec{\\theta} $ around 0, we ensure that the values passed into the logarithm are manageable and the function does not run away. \n",
      "\n",
      "There are other ways of dealing with this problem but we did not implement them here to avoid the complexity. The purpose of this exercise was to learn how to implement the basics of logistical regression classifier, not deal with all possible edge cases. \n",
      "\n",
      "### Regularization\n",
      "\n",
      "Regularization is an important concept in machine learning that was omitted from this discussion. The idea of regularization is to penalize overfitting by adding a cost for large model parameters. We implement this by adding another term to the cost function:\n",
      "\n",
      "$$ J(\\vec{\\theta}, X, \\vec{y}) = (-1 / n) [\\sum_{i=1}^{n} y_i log(h(\\vec{x_i}, \\vec{\\theta})) + (1 - y_i) log(1 - h(\\vec{x_i}, \\vec{\\theta}))] + \\lambda\\sum_{j=1}^{m} \\theta_j $$\n",
      "\n",
      "Where $ \\lambda \\in \\mathbb{R} $ is called the *regularization parameter*.\n",
      "\n",
      "The last term in this new cost function prevents the parameters of $ \\vec{\\theta} $ from becoming too large. This strategy tends to improve the accuracy of the classifier on the test set since it prevents the classifier from being overfitted to the training set. \n",
      "\n",
      "### The Gradient\n",
      "\n",
      "The optimization routine we used to train the classifier was ```scipy.optimize.fmin_cg()```. This is an implementation of gradient descent which seeks the optimal solution by following the gradient (the derivative in multiple dimensions) down to the minimal point. The algorithm depends on being able to calculate the gradient at each point and its performance can be improved by finding the gradient function and passing it in to the ```fprime``` parameter. Since we did not do this, the ```fmin_cg()``` function was forced to numerically estimate the gradient at each point, which hurt performance. \n",
      "\n",
      "### Better Implementations\n",
      "\n",
      "It's important to note that the code included with this notebook is meant as a learner's implementation of the logistical regression classifier and you should not use this code for anything other than instruction. If you're looking for a classifier to use in production you should use one of the standard implementations such as ```sklearn.linear_model.LogisticRegression```.\n",
      "\n",
      "### Comparisons to Other Classifiers\n",
      "\n",
      "In this discussion we did not say anything about how the logistical regression classifier compares to other classifiers such as the naive bayes or the support vector machine. Different algorithms perform better on different problems and you should evaluate several before choosing one solution for the problem you are working on. "
     ]
    },
    {
     "cell_type": "markdown",
     "metadata": {},
     "source": [
      "## Conclusion\n",
      "\n",
      "In this notebook we went through the basics of how a logistical regression classifier works and wrote a simple implementation. We then evaluated its performance on a spam classification problem and found that it performed fairly well. \n",
      "\n",
      "There are many improvements that could be made but I hope this was useful, if only for a basic introduction to some of the concepts in machine learning and classification. \n",
      "\n",
      "Thanks for reading!"
     ]
    },
    {
     "cell_type": "markdown",
     "metadata": {},
     "source": [
      "## More Resources:\n",
      "\n",
      "- Machine Learning on Coursera: https://www.coursera.org/learn/machine-learning\n",
      "- An Introduction to Statistical Learning: http://www-bcf.usc.edu/~gareth/ISL/getbook.html\n",
      "- ```Scikit-learn```'s implementation of the logistic regression classifier: http://scikit-learn.org/stable/modules/generated/sklearn.linear_model.LogisticRegression.html\n",
      "- Wikipedia: http://en.wikipedia.org/wiki/Logistic_regression"
     ]
    }
   ],
   "metadata": {}
  }
 ]
}